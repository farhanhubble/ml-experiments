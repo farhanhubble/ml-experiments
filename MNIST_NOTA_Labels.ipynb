{
  "cells": [
    {
      "cell_type": "markdown",
      "metadata": {
        "id": "view-in-github",
        "colab_type": "text"
      },
      "source": [
        "<a href=\"https://colab.research.google.com/github/farhanhubble/ml-experiments/blob/main/MNIST_NOTA_Labels.ipynb\" target=\"_parent\"><img src=\"https://colab.research.google.com/assets/colab-badge.svg\" alt=\"Open In Colab\"/></a>"
      ]
    },
    {
      "cell_type": "markdown",
      "source": [
        "# Model Parameter Evolution\n",
        "Study how the parameter weights of a simple deep network evolve during training. \n",
        "\n",
        "We train a small fully connected network on 48,000 MNIST images, validating on another 12,000 images and testing on 10,000 new images.\n",
        "\n",
        "We plot the distributions of the model's paramter weights to see if the display any pattern. \n",
        "\n",
        "<span style=\"color:red;\">In this simple setup, the weights are initially uniformly randomly distributed but converge to a normal distribution after training. </span>"
      ],
      "metadata": {
        "id": "jy57F4IcD2P-"
      }
    },
    {
      "cell_type": "markdown",
      "source": [
        "### Load MNIST Train and Test Datasets\n",
        "We do not perform any preprocessing right now because:\n",
        "- We would like to split the training data into training and validation data.\n",
        "- Compute the mean and standard deviation of the training data so obtained for normalization."
      ],
      "metadata": {
        "id": "lqtJwZa4DO1I"
      }
    },
    {
      "cell_type": "code",
      "source": [
        "from torchvision import datasets\n",
        "\n",
        "train_val_dataset = datasets.MNIST(root='./data/',\n",
        "                            train=True,\n",
        "                            download=True)\n",
        "\n",
        "test_dataset = datasets.MNIST(root='./data',\n",
        "                           train=False,\n",
        "                           download =True)\n",
        "\n"
      ],
      "metadata": {
        "id": "60mvPrianvoR"
      },
      "execution_count": null,
      "outputs": []
    },
    {
      "cell_type": "markdown",
      "source": [
        "### Split Training Dataset\n",
        "Create disjoint training and validation datasets."
      ],
      "metadata": {
        "id": "WSTd0Ek2F3Q5"
      }
    },
    {
      "cell_type": "code",
      "source": [
        "from sklearn.model_selection import train_test_split \n",
        "\n",
        "indices = list(range(len(train_val_dataset)))\n",
        "\n",
        "train_indices, val_indices = train_test_split(indices, test_size=0.3, \n",
        "                                              stratify=train_val_dataset.targets)"
      ],
      "metadata": {
        "id": "XgjUPc2Dqaqi"
      },
      "execution_count": null,
      "outputs": []
    },
    {
      "cell_type": "code",
      "source": [
        "train_data, train_labels = train_val_dataset.data[train_indices], \\\n",
        "                           train_val_dataset.targets[train_indices]\n",
        "\n",
        "valid_data, valid_labels = train_val_dataset.data[val_indices], \\\n",
        "                           train_val_dataset.targets[val_indices]\n",
        "\n",
        "test_data, test_labels = test_dataset.data, test_dataset.targets"
      ],
      "metadata": {
        "id": "Dgs4PAKYIyxq"
      },
      "execution_count": null,
      "outputs": []
    },
    {
      "cell_type": "code",
      "source": [
        "print(f'Training data shape:{train_data.shape}, Validation data shape: {valid_data.shape}')"
      ],
      "metadata": {
        "colab": {
          "base_uri": "https://localhost:8080/"
        },
        "id": "UJ9qpIt8JjNu",
        "outputId": "5ff4df08-bb24-42a8-9ce8-2f8a724678d0"
      },
      "execution_count": null,
      "outputs": [
        {
          "output_type": "stream",
          "name": "stdout",
          "text": [
            "Training data shape:torch.Size([42000, 28, 28]), Validation data shape: torch.Size([18000, 28, 28])\n"
          ]
        }
      ]
    },
    {
      "cell_type": "markdown",
      "source": [
        "### Normalize Data\n",
        "- Calculate normalization parameters from training data\n",
        "- Normalize all three data\n",
        "- Create Pytorch datasets"
      ],
      "metadata": {
        "id": "RIuROG7Vyn6k"
      }
    },
    {
      "cell_type": "code",
      "source": [
        "train_mean, train_std = train_data.float().mean(), train_data.float().std()\n",
        "print(f'Training mean:{train_mean}, Traininig std. deviation: {train_std}')"
      ],
      "metadata": {
        "colab": {
          "base_uri": "https://localhost:8080/"
        },
        "id": "D7PG0X5PKKrq",
        "outputId": "a168617a-fd5d-4b26-a258-33f41778051d"
      },
      "execution_count": null,
      "outputs": [
        {
          "output_type": "stream",
          "name": "stdout",
          "text": [
            "Training mean:33.31022262573242, Traininig std. deviation: 78.5593490600586\n"
          ]
        }
      ]
    },
    {
      "cell_type": "code",
      "source": [
        "from torchvision.transforms.functional import normalize\n",
        "def transform_data(tensor):\n",
        "  scaled_tensor = tensor.float() / 255.;\n",
        "  return normalize(scaled_tensor,[train_mean/255], [train_std/255])\n",
        "\n",
        "\n",
        "train_data_normalized = transform_data(train_data)\n",
        "valid_data_normalized = transform_data(valid_data)\n",
        "test_data_normalized = transform_data(test_data)\n"
      ],
      "metadata": {
        "id": "b9m7--9MMYp9"
      },
      "execution_count": null,
      "outputs": []
    },
    {
      "cell_type": "code",
      "source": [
        "for dataset in [train_data_normalized, valid_data_normalized, test_data_normalized]:\n",
        "  print(f'Min:{dataset.min():.3f}, Mean:{dataset.mean():.3f}, Max:{dataset.max():.3f}')"
      ],
      "metadata": {
        "colab": {
          "base_uri": "https://localhost:8080/"
        },
        "id": "Da58SKDFO2es",
        "outputId": "5cbe91f5-9b7c-471a-ec54-007ff18c8be1"
      },
      "execution_count": null,
      "outputs": [
        {
          "output_type": "stream",
          "name": "stdout",
          "text": [
            "Min:-0.424, Mean:0.000, Max:2.822\n",
            "Min:-0.424, Mean:0.000, Max:2.822\n",
            "Min:-0.424, Mean:0.006, Max:2.822\n"
          ]
        }
      ]
    },
    {
      "cell_type": "code",
      "source": [
        "from torch.utils.data import TensorDataset\n",
        "\n",
        "train_dataset = TensorDataset(train_data_normalized, train_labels)\n",
        "valid_dataset = TensorDataset(valid_data_normalized, valid_labels)\n",
        "test_dataset  = TensorDataset(test_data_normalized, test_labels)\n"
      ],
      "metadata": {
        "id": "goRxDZENInFt"
      },
      "execution_count": null,
      "outputs": []
    },
    {
      "cell_type": "markdown",
      "source": [
        "### Build a Model\n",
        "- Define architecture\n",
        "- Define hyperparameters, loss and optimizer"
      ],
      "metadata": {
        "id": "w4GE3rM3zJD0"
      }
    },
    {
      "cell_type": "code",
      "execution_count": null,
      "metadata": {
        "id": "xW4dP1rc9CRx"
      },
      "outputs": [],
      "source": [
        "import numpy as np\n",
        "import torch\n",
        "import torch.nn as nn\n",
        "\n",
        "class FullyConnectedNetwork(nn.Module):\n",
        "    def __init__(self):\n",
        "        super(FullyConnectedNetwork, self).__init__()\n",
        "        self.fc1 = nn.Linear(28*28, 512)\n",
        "        self.fc2 = nn.Linear(512, 10)\n",
        "        self.out = None\n",
        "\n",
        "    def forward(self, x):\n",
        "        x = x.view(-1, 28*28)\n",
        "        x = self.fc1(x)\n",
        "        x = torch.relu(x)\n",
        "        self.out = self.fc2(x)\n",
        "        return self.out\n",
        "\n",
        "    def get_probs(self):\n",
        "      return torch.nn.functional.softmax(self.out, dim=1)\\\n",
        "      .cpu().detach().numpy()\n",
        "\n",
        "    def get_predictions(self):\n",
        "      return self.get_probs().argmax(axis=1)"
      ]
    },
    {
      "cell_type": "code",
      "execution_count": null,
      "metadata": {
        "id": "pqtgQPgpLlvs"
      },
      "outputs": [],
      "source": [
        "model = FullyConnectedNetwork()"
      ]
    },
    {
      "cell_type": "code",
      "execution_count": null,
      "metadata": {
        "id": "2vrCxqC6kNlD"
      },
      "outputs": [],
      "source": [
        "CONFIG = {\n",
        "    'BATCH_SZ':32,\n",
        "    'TARGET_VAL_ACCURACY': 0.9,\n",
        "    'TRAINING_STEPS':10000,\n",
        "    'EVAL_EVERY':2000\n",
        "}"
      ]
    },
    {
      "cell_type": "code",
      "execution_count": null,
      "metadata": {
        "id": "YCYF1V4gI_Ow"
      },
      "outputs": [],
      "source": [
        "loss_fn = torch.nn.CrossEntropyLoss()"
      ]
    },
    {
      "cell_type": "code",
      "execution_count": null,
      "metadata": {
        "id": "0DCte9EzKOE_"
      },
      "outputs": [],
      "source": [
        "optimizer = torch.optim.Adam(model.parameters())"
      ]
    },
    {
      "cell_type": "markdown",
      "source": [
        "### Training and Evaluation Logic\n",
        "- Forward stepping through the model: `model_step()`\n",
        "- Gradient propagation and weight update: `train_step()`"
      ],
      "metadata": {
        "id": "eby9lCGOzffP"
      }
    },
    {
      "cell_type": "code",
      "execution_count": null,
      "metadata": {
        "colab": {
          "base_uri": "https://localhost:8080/"
        },
        "id": "ic1CKZC0zH1P",
        "outputId": "61e3431d-ac87-4bb4-cc5b-1a032e6196ec"
      },
      "outputs": [
        {
          "output_type": "stream",
          "name": "stdout",
          "text": [
            "Automatic pdb calling has been turned ON\n"
          ]
        }
      ],
      "source": [
        "%pdb on\n",
        "\n",
        "def model_step(model, batch, loss_fn):\n",
        "  X, y = batch\n",
        "  output = model(X)\n",
        "  loss = loss_fn(output, target=y)\n",
        "\n",
        "  return output, loss"
      ]
    },
    {
      "cell_type": "code",
      "execution_count": null,
      "metadata": {
        "id": "0Cw70Xz1zINo"
      },
      "outputs": [],
      "source": [
        "def train_step(model, batch, optim, loss_fn):\n",
        "  output, loss = model_step(model, batch, loss_fn)\n",
        "  optim.zero_grad()\n",
        "  loss.backward()\n",
        "  optim.step()\n",
        "\n",
        "  return output, loss"
      ]
    },
    {
      "cell_type": "code",
      "execution_count": null,
      "metadata": {
        "id": "-CHYTFpG1Tdz"
      },
      "outputs": [],
      "source": [
        "eval_step = model_step"
      ]
    },
    {
      "cell_type": "markdown",
      "source": [
        "### Data Batching\n",
        "- Create data loaders."
      ],
      "metadata": {
        "id": "PPlm49o6z3wt"
      }
    },
    {
      "cell_type": "code",
      "source": [
        "from torch.utils.data import DataLoader\n",
        "\n",
        "train_loader = DataLoader(dataset=train_dataset, \n",
        "                          batch_size=CONFIG['BATCH_SZ'],\n",
        "                          shuffle=True)\n",
        "\n",
        "valid_loader = DataLoader(dataset=valid_dataset, \n",
        "                          batch_size=CONFIG['BATCH_SZ'],\n",
        "                          shuffle=False)\n",
        "\n",
        "test_loader = DataLoader(dataset=test_dataset, \n",
        "                          batch_size=CONFIG['BATCH_SZ'],\n",
        "                          shuffle=False)"
      ],
      "metadata": {
        "id": "bGWKwqtnnSm3"
      },
      "execution_count": null,
      "outputs": []
    },
    {
      "cell_type": "markdown",
      "source": [
        "### Training and Evalaution Loops"
      ],
      "metadata": {
        "id": "01416Fer0Cet"
      }
    },
    {
      "cell_type": "code",
      "execution_count": null,
      "metadata": {
        "id": "0GwNDRP4TMPz"
      },
      "outputs": [],
      "source": [
        "from collections import defaultdict\n",
        "from sklearn.metrics import accuracy_score\n",
        "\n",
        "\n",
        "def eval(model, data_loader, loss_fn):\n",
        "  metrics = defaultdict(float)\n",
        "  with torch.no_grad():\n",
        "    for batch in data_loader:\n",
        "      _, loss = eval_step(model, batch, loss_fn)\n",
        "      _, targets = batch\n",
        "\n",
        "      metrics['loss'] += loss.item()\n",
        "      metrics['accuracy'] += accuracy_score(targets.cpu().detach().numpy(), \n",
        "                                            model.get_predictions())\n",
        "      metrics['nb_batches'] += 1\n",
        "\n",
        "  metrics['loss'] /= metrics['nb_batches']\n",
        "  metrics['accuracy'] /= metrics['nb_batches']\n",
        "\n",
        "  return metrics"
      ]
    },
    {
      "cell_type": "code",
      "execution_count": null,
      "metadata": {
        "id": "F906uBbuFIUR"
      },
      "outputs": [],
      "source": [
        "def train_eval(model, train_data_loader, val_data_loader, loss_fn, optimizer):\n",
        "  for i in range(CONFIG['TRAINING_STEPS']):\n",
        "    train_batch = next(iter(train_data_loader))\n",
        "    train_output, train_loss  = train_step(model, train_batch, optimizer, loss_fn)\n",
        "\n",
        "    is_eval_step = (i+1) % CONFIG['EVAL_EVERY'] == 0 \n",
        "    is_last_step = (i+1) == CONFIG['TRAINING_STEPS']\n",
        "    eval_needed =  is_eval_step or is_last_step\n",
        "    \n",
        "    if eval_needed:\n",
        "      train_metrics = eval(model, train_data_loader, loss_fn)\n",
        "      valid_metrics = eval(model, val_data_loader, loss_fn)\n",
        "\n",
        "      print(f'Training steps:{i+1:6d}, \\\n",
        "      training loss:{train_metrics[\"loss\"]:.2f}, \\\n",
        "      training accuracy:{train_metrics[\"accuracy\"]:.2f}, \\\n",
        "      valiadtion loss:{valid_metrics[\"loss\"]:.2f} ,\\\n",
        "      validation accuracy:{valid_metrics[\"accuracy\"]:.2f}')"
      ]
    },
    {
      "cell_type": "markdown",
      "source": [
        "### Experiment Set Up\n",
        "- Record values of all trainable parameters before and after training.\n",
        "- Evaluate the trained model on test dataset\n",
        "- Plot the distribution of parameters before and after training."
      ],
      "metadata": {
        "id": "2WKYaGDb0TyM"
      }
    },
    {
      "cell_type": "code",
      "execution_count": null,
      "metadata": {
        "id": "dVYTw4z8HbSL"
      },
      "outputs": [],
      "source": [
        "def collect_params(model):\n",
        "  all_params = []\n",
        "  for params in model.parameters():\n",
        "    all_params.extend(list(params.detach().flatten().numpy()))\n",
        "\n",
        "  return all_params\n"
      ]
    },
    {
      "cell_type": "code",
      "source": [
        "pre_training_params = collect_params(model)\n",
        "train_eval(model, train_loader, valid_loader, loss_fn, optimizer)\n",
        "post_training_params = collect_params(model)"
      ],
      "metadata": {
        "colab": {
          "base_uri": "https://localhost:8080/"
        },
        "id": "sBw3zbPg0iwX",
        "outputId": "004d69ce-e0ef-4b6f-cc92-7a75e2ffd310"
      },
      "execution_count": null,
      "outputs": [
        {
          "output_type": "stream",
          "name": "stdout",
          "text": [
            "Training steps:  2000,       training loss:0.09,       training accuracy:0.97,       valiadtion loss:0.12 ,      validation accuracy:0.96\n",
            "Training steps:  4000,       training loss:0.05,       training accuracy:0.98,       valiadtion loss:0.10 ,      validation accuracy:0.97\n",
            "Training steps:  6000,       training loss:0.03,       training accuracy:0.99,       valiadtion loss:0.10 ,      validation accuracy:0.97\n",
            "Training steps:  8000,       training loss:0.03,       training accuracy:0.99,       valiadtion loss:0.12 ,      validation accuracy:0.97\n",
            "Training steps: 10000,       training loss:0.02,       training accuracy:0.99,       valiadtion loss:0.11 ,      validation accuracy:0.97\n"
          ]
        }
      ]
    },
    {
      "cell_type": "code",
      "source": [
        "test_metrics = eval(model, test_loader, loss_fn)\n",
        "print(f'Test loss:{test_metrics[\"loss\"]:.2f}, \\\n",
        "      Test accuracy:{test_metrics[\"accuracy\"]:.2f}')"
      ],
      "metadata": {
        "colab": {
          "base_uri": "https://localhost:8080/"
        },
        "id": "NBcE0BK6_8nu",
        "outputId": "c3651918-042a-4277-c5df-efbc7ea71f9f"
      },
      "execution_count": null,
      "outputs": [
        {
          "output_type": "stream",
          "name": "stdout",
          "text": [
            "Test loss:0.10,       Test accuracy:0.97\n"
          ]
        }
      ]
    },
    {
      "cell_type": "code",
      "source": [
        "import matplotlib.pyplot as plt\n",
        "plt.figure(figsize=(12,4))\n",
        "\n",
        "plt.subplot(1,2,1)\n",
        "plt.title('Distribution of Model Params(Pre-Training)')\n",
        "plt.xlabel('Parameter value')\n",
        "plt.ylabel('Fraction of total parameters')\n",
        "\n",
        "counts_pre, bins_pre = np.histogram(pre_training_params, density=False)\n",
        "probs_pre = counts_pre / counts_pre.sum()\n",
        "\n",
        "plt.bar(bins_pre[:-1], probs_pre, )\n",
        "\n",
        "\n",
        "plt.subplot(1,2,2)\n",
        "plt.title('Distribution of Model Params(Post-Training)')\n",
        "plt.xlabel('Parameter value')\n",
        "plt.ylabel('Fraction of total parameters')\n",
        "\n",
        "counts_post, bins_post = np.histogram(post_training_params, density=False)\n",
        "probs_post = counts_post / counts_post.sum()\n",
        "\n",
        "plt.bar(bins_post[:-1], probs_post)\n",
        "\n",
        "plt.show()"
      ],
      "metadata": {
        "colab": {
          "base_uri": "https://localhost:8080/",
          "height": 295
        },
        "id": "wrATQ37Gapfh",
        "outputId": "bd9f52a3-2fda-4710-cd52-f1ff7c0c20f4"
      },
      "execution_count": null,
      "outputs": [
        {
          "output_type": "display_data",
          "data": {
            "text/plain": [
              "<Figure size 864x288 with 2 Axes>"
            ],
            "image/png": "[encoded data removed]"
          },
          "metadata": {
            "needs_background": "light"
          }
        }
      ]
    },
    {
      "cell_type": "markdown",
      "source": [
        "### Results\n",
        "- The model has just one hidden layer. The initial distribution of the weights is uniform [Kaiming He][1]\n",
        "- After training the distribution becaomes Gaussian-esque\n",
        "\n",
        "[1]:https://pytorch.org/docs/stable/_modules/torch/nn/modules/linear.html#Linear"
      ],
      "metadata": {
        "id": "0cdaIiER262t"
      }
    }
  ],
  "metadata": {
    "colab": {
      "provenance": [],
      "toc_visible": true,
      "authorship_tag": "ABX9TyOvmC2GenzL+Rm1tGwgjI75",
      "include_colab_link": true
    },
    "kernelspec": {
      "display_name": "Python 3",
      "name": "python3"
    },
    "language_info": {
      "name": "python"
    }
  },
  "nbformat": 4,
  "nbformat_minor": 0
}